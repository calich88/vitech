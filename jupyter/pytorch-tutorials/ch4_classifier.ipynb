{
 "cells": [
  {
   "cell_type": "code",
   "execution_count": 43,
   "metadata": {
    "hideCode": false,
    "hidePrompt": false
   },
   "outputs": [],
   "source": [
    "%matplotlib inline"
   ]
  },
  {
   "cell_type": "markdown",
   "metadata": {
    "hideCode": false,
    "hidePrompt": false
   },
   "source": [
    "\n",
    "Huấn luyện một máy phân loại\n",
    "=====================\n",
    "\n",
    "Dịch từ bài tiếng Anh: https://pytorch.org/tutorials/beginner/blitz/cifar10_tutorial.html#sphx-glr-beginner-blitz-cifar10-tutorial-py\n",
    "\n",
    "Ở các bài trước, ta đã học về Tensor, tính đạo hàm tự động autograd, cách định nghĩa một mạng Neural, tính hàm mất mát và cập nhật trọng số với Pytorch. Trong bài này, ta sẽ kết hợp các kiến thức trên để huấn luyện một máy phân loại (classifier) trên ảnh.\n",
    "\n",
    "Để huấn luyện máy phân loại thì điều quan trọng là phải chuẩn bị dữ liệu mẫu. Trong phần sau, ta sẽ mô tả khái quát việc chuẩn bị dữ liệu mẫu với Pytorch.\n",
    "\n",
    "Chuẩn bị dữ liệu\n",
    "----------------\n",
    "\n",
    "Nói chung, khi làm việc với dữ liệu ảnh, văn bản, âm thanh hay video, bạn có thể dùng các công cụ python chuẩn để nạp dữ liệu vào mảng numpy, từ đó có thể chuyển mảng numpy thành ``torch.*Tensor``.\n",
    "\n",
    "-  Với dữ liệu ảnh, các packages như Pillow, OpenCV sẽ hữu ích\n",
    "-  Với dữ liệu âm thanh, các package như scipy và librosa sẽ hữu ích\n",
    "-  Với dữ liệu văn bản, có thể dùng trực tiếp Python/Cython hoặc dùng các package như NLTK/SpaCy\n",
    "\n",
    "Riêng với dữ liệu ảnh, pytorch có package ``torchvision`` với nhiều công cụ giúp nạp dữ liệu với các bộ dữ liệu thông dụng như Imagenet, CIFAR10, MNIST,..., và các bộ chuyển hoá dữ liệu (transformers) cho ảnh, video,...\n",
    "qua các package con ``torchvision.datasets`` và ``torch.utils.data.DataLoader``.\n",
    "\n",
    "Các công cụ này rất tiện dụng, giúp ta tránh phải viết mã dài dòng cho công việc chuẩn bị dữ liệu.\n",
    "\n",
    "Trong bài này ta sẽ dùng bộ dữ liệu mẫu CIFAR10 với các phân loại ảnh như: ‘airplane’, ‘automobile’, ‘bird’, ‘cat’, ‘deer’,\n",
    "‘dog’, ‘frog’, ‘horse’, ‘ship’, ‘truck’. Các ảnh trong bộ dữ liệu CIFAR-10 có kích thước 3x32x32, nghĩa là ảnh màu 3 channel với kích thước 32x32.\n",
    "\n",
    "![cifar10](files/ch4_cifar10.png)\n",
    "\n",
    "Huấn luyện máy phân loại ảnh\n",
    "----------------------------\n",
    "\n",
    "Ta sẽ thực hiện việc huấn luyện qua các bước sau:\n",
    "\n",
    "1. Nạp và chuẩn hoá dữ liệu mẫu từ bộ dữ liệu CIFAR10 (chia ra làm tập huấn luyện và tập kiểm tra) với sự hỗ trợ của package ``torchvision``\n",
    "2. Định nghĩa một mạng Neural Convolutional (CNN).\n",
    "3. Định nghĩa hàm mất mát.\n",
    "4. Huấn luyện mạng trên tập dữ liệu huấn luyện.\n",
    "5. Kiểm tra độ chính xác trên tập dữ liệu kiểm tra.\n",
    "\n",
    "\n",
    "\n",
    "Nạp và chuẩn hoá CIFAR10\n",
    "----------------------------\n",
    "\n",
    "Với package ``torchvision``, ta có thể nạp bộ dữ liệu CIFAR10 rất dễ dàng như sau:\n",
    "\n"
   ]
  },
  {
   "cell_type": "code",
   "execution_count": 44,
   "metadata": {
    "hideCode": false,
    "hidePrompt": false
   },
   "outputs": [],
   "source": [
    "import torch\n",
    "import torchvision\n",
    "import torchvision.transforms as transforms"
   ]
  },
  {
   "cell_type": "markdown",
   "metadata": {
    "hideCode": false,
    "hidePrompt": false
   },
   "source": [
    "Các bộ dữ liệu torchvision là ảnh dạng PILImage với trị số trong khoảng [0, 1]. Ta sẽ chuẩn hoá dữ liệu thành các Tensor với trị số trong khoảng [-1, 1]. (Lưu ý: bạn sẽ phải chờ một chút cho đoạn mã sau đây tải dữ liệu về từ Internet)."
   ]
  },
  {
   "cell_type": "code",
   "execution_count": 45,
   "metadata": {
    "hideCode": false,
    "hidePrompt": false
   },
   "outputs": [
    {
     "name": "stdout",
     "output_type": "stream",
     "text": [
      "Files already downloaded and verified\n",
      "Files already downloaded and verified\n"
     ]
    }
   ],
   "source": [
    "transform = transforms.Compose(\n",
    "    [transforms.ToTensor(),\n",
    "     transforms.Normalize((0.5, 0.5, 0.5), (0.5, 0.5, 0.5))])\n",
    "\n",
    "trainset = torchvision.datasets.CIFAR10(root='./data', train=True,\n",
    "                                        download=True, transform=transform)\n",
    "trainloader = torch.utils.data.DataLoader(trainset, batch_size=4,\n",
    "                                          shuffle=True, num_workers=2)\n",
    "\n",
    "testset = torchvision.datasets.CIFAR10(root='./data', train=False,\n",
    "                                       download=True, transform=transform)\n",
    "testloader = torch.utils.data.DataLoader(testset, batch_size=4,\n",
    "                                         shuffle=False, num_workers=2)\n",
    "\n",
    "classes = ('Máy Bay', 'Ôtô', 'Chim', 'Mèo',\n",
    "           'Hươu', 'Chó', 'Ếch', 'Ngựa', 'Thuyền', 'Xe Tải')"
   ]
  },
  {
   "cell_type": "markdown",
   "metadata": {
    "hideCode": false,
    "hidePrompt": false
   },
   "source": [
    "Giờ ta hãy thử hiển thị một vài tấm ảnh trong bộ dữ liệu huấn luyện:"
   ]
  },
  {
   "cell_type": "code",
   "execution_count": 63,
   "metadata": {
    "hideCode": false,
    "hidePrompt": false
   },
   "outputs": [
    {
     "data": {
      "image/png": "[encoded data removed]",
      "text/plain": [
       "<Figure size 432x288 with 1 Axes>"
      ]
     },
     "metadata": {},
     "output_type": "display_data"
    },
    {
     "name": "stdout",
     "output_type": "stream",
     "text": [
      "  Ếch   /    Hươu   /     Ếch   /   Xe Tải\n"
     ]
    }
   ],
   "source": [
    "import matplotlib.pyplot as plt\n",
    "import numpy as np\n",
    "\n",
    "# Thủ tục này giúp hiển thị ảnh\n",
    "def imshow(img):\n",
    "    img = img / 2 + 0.5     # Ánh xạ giá trị lại khoảng [0, 1].\n",
    "    npimg = img.numpy()\n",
    "    plt.imshow(np.transpose(npimg, (1, 2, 0)))\n",
    "    plt.show()\n",
    "\n",
    "# Lấy vài tấm ảnh huấn luyện ngẫu nhiên\n",
    "dataiter = iter(trainloader)\n",
    "images, labels = dataiter.next()\n",
    "\n",
    "# Hiển thị ảnh\n",
    "imshow(torchvision.utils.make_grid(images))\n",
    "# In nhãn\n",
    "print('   /   '.join('%5s' % classes[labels[j]] for j in range(4)))"
   ]
  },
  {
   "cell_type": "markdown",
   "metadata": {
    "hideCode": false,
    "hidePrompt": false
   },
   "source": [
    "\n",
    "## Định nghĩa mạng Neural Convolutional (CNN)\n",
    "\n",
    "Ta sao chép lại mạng Neural định nghĩa trong bài học trước và chỉ cần sửa lại để nhận ảnh đầu vào có 3 channel thay vì 1 channel."
   ]
  },
  {
   "cell_type": "code",
   "execution_count": 47,
   "metadata": {
    "hideCode": false,
    "hidePrompt": false
   },
   "outputs": [],
   "source": [
    "import torch.nn as nn\n",
    "import torch.nn.functional as F\n",
    "\n",
    "\n",
    "class Net(nn.Module):\n",
    "    def __init__(self):\n",
    "        super(Net, self).__init__()\n",
    "        self.conv1 = nn.Conv2d(3, 6, 5)\n",
    "        self.pool = nn.MaxPool2d(2, 2)\n",
    "        self.conv2 = nn.Conv2d(6, 16, 5)\n",
    "        self.fc1 = nn.Linear(16 * 5 * 5, 120)\n",
    "        self.fc2 = nn.Linear(120, 84)\n",
    "        self.fc3 = nn.Linear(84, 10)\n",
    "\n",
    "    def forward(self, x):\n",
    "        x = self.pool(F.relu(self.conv1(x)))\n",
    "        x = self.pool(F.relu(self.conv2(x)))\n",
    "        x = x.view(-1, 16 * 5 * 5)\n",
    "        x = F.relu(self.fc1(x))\n",
    "        x = F.relu(self.fc2(x))\n",
    "        x = self.fc3(x)\n",
    "        return x\n",
    "\n",
    "\n",
    "net = Net()"
   ]
  },
  {
   "cell_type": "markdown",
   "metadata": {
    "hideCode": false,
    "hidePrompt": false
   },
   "source": [
    "## Định nghĩa hàm mất mát và bộ tối ưu hoá\n",
    "\n",
    "Ta hãy dùng hàm mất mát Cross-Entropy (thích hợp cho các bài toán phân loại), và bộ tối ưu hoá là SGD với momentum."
   ]
  },
  {
   "cell_type": "code",
   "execution_count": 48,
   "metadata": {
    "hideCode": false,
    "hidePrompt": false
   },
   "outputs": [],
   "source": [
    "import torch.optim as optim\n",
    "\n",
    "criterion = nn.CrossEntropyLoss()\n",
    "optimizer = optim.SGD(net.parameters(), lr=0.001, momentum=0.9)"
   ]
  },
  {
   "cell_type": "markdown",
   "metadata": {
    "hideCode": false,
    "hidePrompt": false
   },
   "source": [
    "## Huấn luyện mạng\n",
    "\n",
    "Bước này, ta chỉ cần lặp qua dữ liệu huấn luyện, đưa dữ liệu vào mạng và dùng bộ tối ưu hoá:"
   ]
  },
  {
   "cell_type": "code",
   "execution_count": 49,
   "metadata": {
    "hideCode": false,
    "hidePrompt": false
   },
   "outputs": [
    {
     "name": "stdout",
     "output_type": "stream",
     "text": [
      "[1,  2000] loss: 2.223\n",
      "[1,  4000] loss: 1.858\n",
      "[1,  6000] loss: 1.703\n",
      "[1,  8000] loss: 1.603\n",
      "[1, 10000] loss: 1.537\n",
      "[1, 12000] loss: 1.482\n",
      "[2,  2000] loss: 1.385\n",
      "[2,  4000] loss: 1.352\n",
      "[2,  6000] loss: 1.333\n",
      "[2,  8000] loss: 1.294\n",
      "[2, 10000] loss: 1.280\n",
      "[2, 12000] loss: 1.269\n",
      "Huấn luyện xong\n"
     ]
    }
   ],
   "source": [
    "for epoch in range(2):  # Lặp qua bộ dữ liệu huấn luyện nhiều lần\n",
    "\n",
    "    running_loss = 0.0\n",
    "    for i, data in enumerate(trainloader, 0):\n",
    "        # Lấy dữ liệu\n",
    "        inputs, labels = data\n",
    "\n",
    "        # Xoá giá trị đạo hàm\n",
    "        optimizer.zero_grad()\n",
    "\n",
    "        # Tính giá trị tiên đoán, đạo hàm, và dùng bộ tối ưu hoá để cập nhật trọng số.\n",
    "        outputs = net(inputs)\n",
    "        loss = criterion(outputs, labels)\n",
    "        loss.backward()\n",
    "        optimizer.step()\n",
    "\n",
    "        # In ra số liệu trong quá trình huấn luyện\n",
    "        running_loss += loss.item()\n",
    "        if i % 2000 == 1999:    # In mỗi 2000 mini-batches.\n",
    "            print('[%d, %5d] loss: %.3f' %\n",
    "                  (epoch + 1, i + 1, running_loss / 2000))\n",
    "            running_loss = 0.0\n",
    "\n",
    "print('Huấn luyện xong')"
   ]
  },
  {
   "cell_type": "markdown",
   "metadata": {
    "hideCode": false,
    "hidePrompt": false
   },
   "source": [
    "## Kiểm tra độ chính xác của mạng\n",
    "\n",
    "Ta đã huấn luyện mạng với 2 lần lặp qua bộ dữ liệu huấn luyện. Bây giờ ta cần kiểm tra xem mạng đã thực sự học được việc phân loại ảnh hay chưa.\n",
    "\n",
    "Để kiểm tra, ta lặp qua tập dữ liệu kiểm tra, dùng mạng để phân loại và ghi nhớ các ảnh được phân loại đúng.\n",
    "\n",
    "Trước tiên, ta hãy hiển thị thử một ảnh từ tập dữ liệu kiểm tra:"
   ]
  },
  {
   "cell_type": "code",
   "execution_count": 64,
   "metadata": {
    "hideCode": false,
    "hidePrompt": false
   },
   "outputs": [
    {
     "data": {
      "image/png": "[encoded data removed]",
      "text/plain": [
       "<Figure size 432x288 with 1 Axes>"
      ]
     },
     "metadata": {},
     "output_type": "display_data"
    },
    {
     "name": "stdout",
     "output_type": "stream",
     "text": [
      "Nhãn đúng:    Mèo   /   Thuyền   /   Thuyền   /   Máy Bay\n"
     ]
    }
   ],
   "source": [
    "dataiter = iter(testloader)\n",
    "images, labels = dataiter.next()\n",
    "\n",
    "# Hiển thị ảnh\n",
    "imshow(torchvision.utils.make_grid(images))\n",
    "print('Nhãn đúng: ', '   /   '.join('%5s' % classes[labels[j]] for j in range(4)))"
   ]
  },
  {
   "cell_type": "markdown",
   "metadata": {
    "hideCode": false,
    "hidePrompt": false
   },
   "source": [
    "Giờ ta hãy xem mạng của ta phân loại các ảnh trên như thế nào:"
   ]
  },
  {
   "cell_type": "code",
   "execution_count": 65,
   "metadata": {
    "hideCode": false,
    "hidePrompt": false
   },
   "outputs": [],
   "source": [
    "outputs = net(images)"
   ]
  },
  {
   "cell_type": "markdown",
   "metadata": {
    "hideCode": false,
    "hidePrompt": false
   },
   "source": [
    "`outputs` thể hiện độ mạnh/yếu của mỗi trong 10 loại ảnh. Loại ảnh được mạng tiên đoán tương ứng với giá trị lớn nhất:"
   ]
  },
  {
   "cell_type": "code",
   "execution_count": 66,
   "metadata": {
    "hideCode": false,
    "hidePrompt": false
   },
   "outputs": [
    {
     "name": "stdout",
     "output_type": "stream",
     "text": [
      "Nhãn tiên đoán:    Ếch  /  Thuyền  /    Ôtô  /  Máy Bay\n"
     ]
    }
   ],
   "source": [
    "_, predicted = torch.max(outputs, 1)\n",
    "\n",
    "print('Nhãn tiên đoán: ', '  /  '.join('%5s' % classes[predicted[j]]\n",
    "                              for j in range(4)))"
   ]
  },
  {
   "cell_type": "markdown",
   "metadata": {
    "hideCode": false,
    "hidePrompt": false
   },
   "source": [
    "Nhãn tiên đoán có vẻ khá chính xác. Giờ ta hãy xem mạng tiên đoán tốt hay không trên toàn bộ tập dữ liệu kiểm tra."
   ]
  },
  {
   "cell_type": "code",
   "execution_count": 67,
   "metadata": {
    "hideCode": false,
    "hideOutput": false,
    "hidePrompt": false
   },
   "outputs": [
    {
     "name": "stdout",
     "output_type": "stream",
     "text": [
      "Độ chính xác của mạng trên 10000 ảnh trong tập kiểm tra: 55 %\n"
     ]
    }
   ],
   "source": [
    "correct = 0\n",
    "total = 0\n",
    "with torch.no_grad():\n",
    "    for data in testloader:\n",
    "        images, labels = data\n",
    "        outputs = net(images)\n",
    "        _, predicted = torch.max(outputs.data, 1)\n",
    "        total += labels.size(0)\n",
    "        correct += (predicted == labels).sum().item()\n",
    "\n",
    "print('Độ chính xác của mạng trên 10000 ảnh trong tập kiểm tra: %d %%' % (\n",
    "    100 * correct / total))"
   ]
  },
  {
   "cell_type": "markdown",
   "metadata": {
    "hideCode": false,
    "hidePrompt": false
   },
   "source": [
    "Độ chính xác này đã tốt hơn nhiều so với việc phân loại ngẫu nhiên (chỉ chính xác 10%)! Vậy là ít nhất mạng của ta đã học được việc phân loại.\n",
    "\n",
    "Đến đây, ta có thể xem các loại ảnh nào được phân loại tốt, và các loại nào được phân loại chưa tốt:"
   ]
  },
  {
   "cell_type": "code",
   "execution_count": 68,
   "metadata": {
    "hideCode": false,
    "hidePrompt": false
   },
   "outputs": [
    {
     "name": "stdout",
     "output_type": "stream",
     "text": [
      "Độ chính xác của loại Máy Bay : 64 %\n",
      "Độ chính xác của loại   Ôtô : 68 %\n",
      "Độ chính xác của loại  Chim : 55 %\n",
      "Độ chính xác của loại   Mèo : 31 %\n",
      "Độ chính xác của loại  Hươu : 34 %\n",
      "Độ chính xác của loại   Chó : 29 %\n",
      "Độ chính xác của loại   Ếch : 80 %\n",
      "Độ chính xác của loại  Ngựa : 58 %\n",
      "Độ chính xác của loại Thuyền : 71 %\n",
      "Độ chính xác của loại Xe Tải : 63 %\n"
     ]
    }
   ],
   "source": [
    "class_correct = list(0. for i in range(10))\n",
    "class_total = list(0. for i in range(10))\n",
    "with torch.no_grad():\n",
    "    for data in testloader:\n",
    "        images, labels = data\n",
    "        outputs = net(images)\n",
    "        _, predicted = torch.max(outputs, 1)\n",
    "        c = (predicted == labels).squeeze()\n",
    "        for i in range(4):\n",
    "            label = labels[i]\n",
    "            class_correct[label] += c[i].item()\n",
    "            class_total[label] += 1\n",
    "\n",
    "\n",
    "for i in range(10):\n",
    "    print('Độ chính xác của loại %5s : %2d %%' % (\n",
    "        classes[i], 100 * class_correct[i] / class_total[i]))"
   ]
  },
  {
   "cell_type": "markdown",
   "metadata": {
    "hideCode": false,
    "hidePrompt": false
   },
   "source": [
    "\n",
    "Huấn luyện mạng trên GPU\n",
    "----------------\n",
    "Để tăng tốc độ huấn luyện, ta có thể dùng GPU (CUDA). Cũng giống như việc chuyển Tensor sang GPU, bạn có thể chuyển một mạng Neural sang GPU.\n",
    "\n",
    "Nếu có thiết bị GPU CUDA, ta dùng lệnh sau để định nghĩa thiết bị CUDA đầu tiên:"
   ]
  },
  {
   "cell_type": "code",
   "execution_count": 69,
   "metadata": {
    "hideCode": false,
    "hidePrompt": false
   },
   "outputs": [
    {
     "name": "stdout",
     "output_type": "stream",
     "text": [
      "cpu\n"
     ]
    }
   ],
   "source": [
    "device = torch.device(\"cuda:0\" if torch.cuda.is_available() else \"cpu\")\n",
    "\n",
    "# ANếu có CUDA thì dòng sau sẽ in ra thiết bị CUDA.\n",
    "print(device)"
   ]
  },
  {
   "cell_type": "markdown",
   "metadata": {
    "hideCode": false,
    "hidePrompt": false
   },
   "source": [
    "Nếu có CUDA, bạn dùng các lệnh sau để chuyển mạng sang CUDA:\n",
    "\n",
    ".. code:: python\n",
    "\n",
    "    net.to(device)\n",
    "\n",
    "\n",
    "Mỗi bước của vòng lặp huấn luyện, bạn cũng phải chuyển dữ liệu và kết quả đích sang GPU như sau:\n",
    "\n",
    ".. code:: python\n",
    "\n",
    "        inputs, labels = inputs.to(device), labels.to(device)\n",
    "\n",
    "Lưu ý là mạng của ta ở đây khá nhỏ, nên khi dùng GPU có thể bạn sẽ không thấy sự tăng tốc đáng kể, tuy nhiên với mạng lớn hơn thì bạn sẽ thấy GPU nhanh hơn nhiều."
   ]
  }
 ],
 "metadata": {
  "celltoolbar": "Hide code",
  "hide_code_all_hidden": true,
  "kernelspec": {
   "display_name": "Python 3",
   "language": "python",
   "name": "python3"
  },
  "language_info": {
   "codemirror_mode": {
    "name": "ipython",
    "version": 3
   },
   "file_extension": ".py",
   "mimetype": "text/x-python",
   "name": "python",
   "nbconvert_exporter": "python",
   "pygments_lexer": "ipython3",
   "version": "3.6.5"
  }
 },
 "nbformat": 4,
 "nbformat_minor": 1
}
